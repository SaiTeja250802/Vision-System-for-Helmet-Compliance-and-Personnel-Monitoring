{
  "cells": [
    {
      "cell_type": "code",
      "execution_count": null,
      "metadata": {
        "id": "zixOzpiPFMW1"
      },
      "outputs": [],
      "source": [
        "import numpy as np\n",
        "import pandas as pd\n",
        "from xml.dom.minidom import parse\n",
        "from shutil import copyfile\n",
        "import os\n",
        "from pathlib import Path"
      ]
    },
    {
      "cell_type": "code",
      "execution_count": null,
      "metadata": {
        "id": "2EaaYePiFpsF"
      },
      "outputs": [],
      "source": [
        "# Mount Google Drive\n",
        "from google.colab import drive\n",
        "drive.mount('/content/drive')"
      ]
    },
    {
      "cell_type": "code",
      "execution_count": null,
      "metadata": {
        "id": "A7rA2DQ0FrXE"
      },
      "outputs": [],
      "source": [
        "\n",
        "# Unzip the dataset\n",
        "!unzip /content/drive/MyDrive/BTP/dataset.zip -d /content"
      ]
    },
    {
      "cell_type": "code",
      "execution_count": null,
      "metadata": {
        "id": "7w9zO5XjFuUQ"
      },
      "outputs": [],
      "source": [
        "\n",
        "# Create necessary directories\n",
        "!mkdir -p /content/Dataset/labels\n",
        "!mkdir -p /content/Dataset/images"
      ]
    },
    {
      "cell_type": "code",
      "execution_count": null,
      "metadata": {
        "id": "5VNJYkqGF-uu"
      },
      "outputs": [],
      "source": [
        "classes = ['helmet', 'head', 'person']"
      ]
    },
    {
      "cell_type": "code",
      "execution_count": null,
      "metadata": {
        "id": "WF30Oc_PF_L2"
      },
      "outputs": [],
      "source": [
        "def convert_annot(size, box):\n",
        "    x1 = int(box[0])\n",
        "    y1 = int(box[1])\n",
        "    x2 = int(box[2])\n",
        "    y2 = int(box[3])\n",
        "# Normalization between 0 and 1\n",
        "    dw = np.float32(1. / int(size[0]))\n",
        "    dh = np.float32(1. / int(size[1]))\n",
        "\n",
        "    w = x2 - x1\n",
        "    h = y2 - y1\n",
        "    x = x1 + (w / 2)  #centre\n",
        "    y = y1 + (h / 2)\n",
        "# converting pixel values to a normalized range [0, 1] for training\n",
        "    x = x * dw\n",
        "    w = w * dw\n",
        "    y = y * dh\n",
        "    h = h * dh\n",
        "    return [x, y, w, h]"
      ]
    },
    {
      "cell_type": "code",
      "execution_count": null,
      "metadata": {
        "id": "xHQluy14GBRT"
      },
      "outputs": [],
      "source": [
        "def save_txt_file(img_jpg_file_name, size, img_box):\n",
        "    save_file_name = '/content/Dataset/labels/' + img_jpg_file_name + '.txt'\n",
        "    with open(save_file_name, 'a+') as file_path:\n",
        "        for box in img_box:\n",
        "            cls_num = classes.index(box[0])\n",
        "            new_box = convert_annot(size, box[1:])\n",
        "            file_path.write(f\"{cls_num} {new_box[0]} {new_box[1]} {new_box[2]} {new_box[3]}\\n\")\n"
      ]
    },
    {
      "cell_type": "code",
      "execution_count": null,
      "metadata": {
        "id": "3BxPutS9GDbf"
      },
      "outputs": [],
      "source": [
        "def get_xml_data(file_path, img_xml_file):\n",
        "    img_path = file_path + '/' + img_xml_file + '.xml'\n",
        "    dom = parse(img_path)\n",
        "    root = dom.documentElement\n",
        "    img_name = root.getElementsByTagName(\"filename\")[0].childNodes[0].data\n",
        "    img_size = root.getElementsByTagName(\"size\")[0]\n",
        "    objects = root.getElementsByTagName(\"object\")\n",
        "    img_w = img_size.getElementsByTagName(\"width\")[0].childNodes[0].data\n",
        "    img_h = img_size.getElementsByTagName(\"height\")[0].childNodes[0].data\n",
        "    img_c = img_size.getElementsByTagName(\"depth\")[0].childNodes[0].data\n",
        "\n",
        "    img_box = []\n",
        "    for box in objects:\n",
        "        cls_name = box.getElementsByTagName(\"name\")[0].childNodes[0].data\n",
        "        x1 = int(box.getElementsByTagName(\"xmin\")[0].childNodes[0].data)\n",
        "        y1 = int(box.getElementsByTagName(\"ymin\")[0].childNodes[0].data)\n",
        "        x2 = int(box.getElementsByTagName(\"xmax\")[0].childNodes[0].data)\n",
        "        y2 = int(box.getElementsByTagName(\"ymax\")[0].childNodes[0].data)\n",
        "\n",
        "        img_jpg_file_name = img_xml_file + '.jpg'\n",
        "        img_box.append([cls_name, x1, y1, x2, y2])\n",
        "\n",
        "    save_txt_file(img_xml_file, [img_w, img_h], img_box)\n",
        "\n",
        "# List and process annotation files\n",
        "files = os.listdir('/content/annotations')\n",
        "for file in files:\n",
        "    file_xml = file.split(\".\")\n",
        "    get_xml_data('/content/annotations', file_xml[0])\n"
      ]
    },
    {
      "cell_type": "code",
      "execution_count": null,
      "metadata": {
        "id": "DTiO3Kj0GHH9"
      },
      "outputs": [],
      "source": [
        "from sklearn.model_selection import train_test_split\n",
        "\n",
        "# List and split image files\n",
        "image_list = os.listdir('/content/images')\n",
        "train_list, test_list = train_test_split(image_list, test_size=0.2, random_state=42)\n",
        "val_list, test_list = train_test_split(test_list, test_size=0.5, random_state=42)\n",
        "\n",
        "print('total =', len(image_list))\n",
        "print('train :', len(train_list))\n",
        "print('val   :', len(val_list))\n",
        "print('test  :', len(test_list))\n"
      ]
    },
    {
      "cell_type": "code",
      "execution_count": null,
      "metadata": {
        "id": "gfGhTUp2GicL"
      },
      "outputs": [],
      "source": [
        "def copy_data(file_list, img_labels_root, imgs_source, mode):\n",
        "    root_file = Path('/content/Dataset/images/' + mode)\n",
        "    if not root_file.exists():\n",
        "        os.makedirs(root_file)\n",
        "\n",
        "    root_file = Path('/content/Dataset/labels/' + mode)\n",
        "    if not root_file.exists():\n",
        "        os.makedirs(root_file)\n",
        "\n",
        "    for file in file_list:\n",
        "        img_name = file.replace('.png', '')\n",
        "        img_src_file = imgs_source + '/' + img_name + '.png'\n",
        "        label_src_file = img_labels_root + '/' + img_name + '.txt'\n",
        "\n",
        "        # Copy image\n",
        "        DICT_DIR = '/content/Dataset/images/' + mode\n",
        "        img_dict_file = DICT_DIR + '/' + img_name + '.png'\n",
        "        copyfile(img_src_file, img_dict_file)\n",
        "\n",
        "        # Copy label\n",
        "        DICT_DIR = '/content/Dataset/labels/' + mode\n",
        "        img_dict_file = DICT_DIR + '/' + img_name + '.txt'\n",
        "        copyfile(label_src_file, img_dict_file)\n",
        "\n",
        "copy_data(train_list, '/content/Dataset/labels', '/content/images', \"train\")\n",
        "copy_data(val_list, '/content/Dataset/labels', '/content/images', \"val\")\n",
        "copy_data(test_list, '/content/Dataset/labels', '/content/images', \"test\")"
      ]
    },
    {
      "cell_type": "code",
      "execution_count": null,
      "metadata": {
        "id": "DnDpq3dJGl6P"
      },
      "outputs": [],
      "source": [
        "!ls /content/Dataset/images"
      ]
    },
    {
      "cell_type": "code",
      "execution_count": null,
      "metadata": {
        "id": "_NaU9yi9Gp5O"
      },
      "outputs": [],
      "source": [
        "import yaml\n",
        "\n",
        "# Create configuration\n",
        "config = {\n",
        "   \"path\": \"/content/Dataset/images\",\n",
        "   \"train\": \"train\",\n",
        "   \"val\": \"val\",\n",
        "   \"test\": \"test\",\n",
        "   \"nc\": 3,\n",
        "   \"names\": ['helmet', 'head', 'person']\n",
        "}\n",
        "with open(\"data.yaml\", \"w\") as file:\n",
        "   yaml.dump(config, file, default_flow_style=False)\n"
      ]
    },
    {
      "cell_type": "code",
      "execution_count": null,
      "metadata": {
        "id": "rKpNPvtCGtfR"
      },
      "outputs": [],
      "source": [
        "# Display the YAML file\n",
        "!cat data.yaml"
      ]
    },
    {
      "cell_type": "code",
      "execution_count": null,
      "metadata": {
        "id": "Gq1Ed_m-HHw2"
      },
      "outputs": [],
      "source": [
        "!git clone https://github.com/ultralytics/ultralytics\n",
        "!pip install ultralytics"
      ]
    },
    {
      "cell_type": "code",
      "execution_count": null,
      "metadata": {
        "id": "rGspDgqhHVo9"
      },
      "outputs": [],
      "source": [
        "pip install wandb"
      ]
    },
    {
      "cell_type": "code",
      "execution_count": null,
      "metadata": {
        "id": "3Soaq3cOGwAB"
      },
      "outputs": [],
      "source": [
        "!wandb disabled"
      ]
    },
    {
      "cell_type": "code",
      "execution_count": null,
      "metadata": {
        "id": "e5Hyp1eCGxyF"
      },
      "outputs": [],
      "source": [
        "# Train YOLOv8 model\n",
        "!yolo task=detect mode=train data=data.yaml model=yolov8s.pt epochs=5 lr0=0.01"
      ]
    },
    {
      "cell_type": "code",
      "execution_count": null,
      "metadata": {
        "id": "z3QJLml7Scvz"
      },
      "outputs": [],
      "source": [
        "# Check the results\n",
        "!ls /content/runs/detect/train"
      ]
    },
    {
      "cell_type": "code",
      "execution_count": null,
      "metadata": {
        "id": "AbIqunHaSemn"
      },
      "outputs": [],
      "source": [
        "from IPython.display import Image, clear_output\n",
        "import matplotlib.pyplot as plt\n",
        "%matplotlib inline"
      ]
    },
    {
      "cell_type": "code",
      "execution_count": null,
      "metadata": {
        "id": "GUG2QaGJG0wa"
      },
      "outputs": [],
      "source": [
        "import plotly.express as px\n",
        "import pandas as pd\n",
        "\n",
        "df = pd.read_csv(\"/content/runs/detect/train/results.csv\")\n",
        "fig = px.line(df, x='                  epoch', y='       metrics/mAP50(B)', title='mAP50')\n",
        "fig.show()"
      ]
    },
    {
      "cell_type": "code",
      "execution_count": null,
      "metadata": {
        "id": "Nu0KkIxrI84D"
      },
      "outputs": [],
      "source": [
        "Image(filename='/content/runs/detect/train/val_batch0_pred.jpg', width=1000)"
      ]
    },
    {
      "cell_type": "code",
      "execution_count": null,
      "metadata": {
        "id": "9o5YLa3ZI9VE"
      },
      "outputs": [],
      "source": [
        "# Validate the model\n",
        "!yolo task=detect mode=val model=/content/runs/detect/train/weights/best.pt data=data.yaml"
      ]
    },
    {
      "cell_type": "code",
      "execution_count": null,
      "metadata": {
        "id": "8VboGMUhI91T"
      },
      "outputs": [],
      "source": [
        "# # Save the model to Google Drive\n",
        "# model_path = \"/content/runs/detect/train/weights/best.pt\"\n",
        "# drive_model_path = \"/content/drive/MyDrive/best.pt\"\n",
        "# copyfile(model_path, drive_model_path)\n",
        "\n",
        "# print(f\"Model saved to {drive_model_path}\")"
      ]
    },
    {
      "cell_type": "code",
      "execution_count": null,
      "metadata": {
        "id": "vNWwKEm0UMd0"
      },
      "outputs": [],
      "source": [
        "# from google.colab import files\n",
        "\n",
        "# # Download the file\n",
        "# files.download('/content/runs/detect/train/weights/best.pt')\n"
      ]
    },
    {
      "cell_type": "code",
      "execution_count": null,
      "metadata": {
        "id": "jlxCh3f3VknJ"
      },
      "outputs": [],
      "source": []
    }
  ],
  "metadata": {
    "accelerator": "GPU",
    "colab": {
      "gpuType": "T4",
      "provenance": []
    },
    "kernelspec": {
      "display_name": "Python 3",
      "name": "python3"
    },
    "language_info": {
      "name": "python"
    }
  },
  "nbformat": 4,
  "nbformat_minor": 0
}