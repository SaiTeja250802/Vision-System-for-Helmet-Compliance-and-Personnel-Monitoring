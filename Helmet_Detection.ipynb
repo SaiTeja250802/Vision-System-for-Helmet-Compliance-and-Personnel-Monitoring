{
  "cells": [
    {
      "cell_type": "code",
      "execution_count": null,
      "metadata": {
        "id": "2EaaYePiFpsF"
      },
      "outputs": [],
      "source": [
        "# Mount Google Drive\n",
        "from google.colab import drive\n",
        "drive.mount('/content/drive')"
      ]
    },
    {
      "cell_type": "code",
      "execution_count": null,
      "metadata": {
        "id": "A7rA2DQ0FrXE"
      },
      "outputs": [],
      "source": [
        "\n",
        "# Unzip the dataset\n",
        "!unzip /content/drive/MyDrive/BTP/dataset.zip -d /content"
      ]
    },
    {
      "cell_type": "code",
      "execution_count": null,
      "metadata": {
        "id": "7w9zO5XjFuUQ"
      },
      "outputs": [],
      "source": [
        "\n",
        "# Create necessary directories\n",
        "!mkdir -p /content/Dataset/labels\n",
        "!mkdir -p /content/Dataset/images"
      ]
    },
    {
      "cell_type": "code",
      "source": [
        "classes = ['head', 'helmet', 'person']"
      ],
      "metadata": {
        "id": "9fCb_jWCcEG2"
      },
      "execution_count": null,
      "outputs": []
    },
    {
      "cell_type": "code",
      "source": [
        "import numpy\n",
        "\n",
        "def convert_annotation(image_size, bbox):\n",
        "    x1, y1, x2, y2 = int(bbox[0]), int(bbox[1]), int(bbox[2]), int(bbox[3])\n",
        "    dw = np.float32(1. / int(image_size[0]))\n",
        "    dh = np.float32(1. / int(image_size[1]))\n",
        "    w, h = x2 - x1, y2 - y1\n",
        "    x, y = x1 + (w / 2), y1 + (h / 2)  # Center\n",
        "    x, y, w, h = x * dw, y * dh, w * dw, h * dh  # Normalization\n",
        "    return [x, y, w, h]"
      ],
      "metadata": {
        "id": "iNUdiZ9cZ_0X"
      },
      "execution_count": null,
      "outputs": []
    },
    {
      "cell_type": "code",
      "execution_count": null,
      "metadata": {
        "id": "xHQluy14GBRT"
      },
      "outputs": [],
      "source": [
        "def save_annotation_txt(image_filename, image_size, bboxes):\n",
        "    save_path = f'/content/Dataset/labels/{image_filename}.txt'\n",
        "    with open(save_path, 'a+') as file:\n",
        "        for bbox in bboxes:\n",
        "            class_id = class_names.index(bbox[0])\n",
        "            normalized_bbox = convert_annotation(image_size, bbox[1:])\n",
        "            file.write(f\"{class_id} {normalized_bbox[0]} {normalized_bbox[1]} {normalized_bbox[2]} {normalized_bbox[3]}\\n\")"
      ]
    },
    {
      "cell_type": "code",
      "execution_count": null,
      "metadata": {
        "id": "3BxPutS9GDbf"
      },
      "outputs": [],
      "source": [
        "from xml.dom.minidom import parse\n",
        "\n",
        "def process_xml_annotation(xml_folder_path, xml_filename):\n",
        "    xml_path = f'{xml_folder_path}/{xml_filename}.xml'\n",
        "    dom = parse(xml_path)\n",
        "    root = dom.documentElement\n",
        "    image_name = root.getElementsByTagName(\"filename\")[0].childNodes[0].data\n",
        "    size_element = root.getElementsByTagName(\"size\")[0]\n",
        "    objects = root.getElementsByTagName(\"object\")\n",
        "    img_width = size_element.getElementsByTagName(\"width\")[0].childNodes[0].data\n",
        "    img_height = size_element.getElementsByTagName(\"height\")[0].childNodes[0].data\n",
        "    img_depth = size_element.getElementsByTagName(\"depth\")[0].childNodes[0].data\n",
        "\n",
        "    bboxes = []\n",
        "    for obj in objects:\n",
        "        class_name = obj.getElementsByTagName(\"name\")[0].childNodes[0].data\n",
        "        x1 = int(obj.getElementsByTagName(\"xmin\")[0].childNodes[0].data)\n",
        "        y1 = int(obj.getElementsByTagName(\"ymin\")[0].childNodes[0].data)\n",
        "        x2 = int(obj.getElementsByTagName(\"xmax\")[0].childNodes[0].data)\n",
        "        y2 = int(obj.getElementsByTagName(\"ymax\")[0].childNodes[0].data)\n",
        "        bboxes.append([class_name, x1, y1, x2, y2])\n",
        "\n",
        "    save_annotation_txt(xml_filename, [img_width, img_height], bboxes)\n",
        "\n",
        "# List and process annotation files\n",
        "annotation_files = os.listdir('/content/annotations')\n",
        "for annotation_file in annotation_files:\n",
        "    xml_filename = annotation_file.split(\".\")[0]\n",
        "    process_xml_annotation('/content/annotations', xml_filename)"
      ]
    },
    {
      "cell_type": "code",
      "execution_count": null,
      "metadata": {
        "id": "DTiO3Kj0GHH9"
      },
      "outputs": [],
      "source": [
        "from sklearn.model_selection import train_test_split\n",
        "import os\n",
        "import yaml\n",
        "\n",
        "# List and split image files\n",
        "image_files = os.listdir('/content/images')\n",
        "train_files, test_files = train_test_split(image_files, test_size=0.2, random_state=42)\n",
        "val_files, test_files = train_test_split(test_files, test_size=0.5, random_state=42)\n",
        "\n",
        "print('Total images:', len(image_files))\n",
        "print('Train:', len(train_files))\n",
        "print('Validation:', len(val_files))\n",
        "print('Test:', len(test_files))\n"
      ]
    },
    {
      "cell_type": "code",
      "execution_count": null,
      "metadata": {
        "id": "gfGhTUp2GicL"
      },
      "outputs": [],
      "source": [
        "from shutil import copyfile\n",
        "\n",
        "def copy_files(file_list, labels_root, images_source, mode):\n",
        "    image_dest_dir = Path(f'/content/Dataset/images/{mode}')\n",
        "    if not image_dest_dir.exists():\n",
        "        os.makedirs(image_dest_dir)\n",
        "\n",
        "    label_dest_dir = Path(f'/content/Dataset/labels/{mode}')\n",
        "    if not label_dest_dir.exists():\n",
        "        os.makedirs(label_dest_dir)\n",
        "\n",
        "    for file in file_list:\n",
        "        image_name = file.replace('.png', '')\n",
        "        image_source_path = f'{images_source}/{image_name}.png'\n",
        "        label_source_path = f'{labels_root}/{image_name}.txt'\n",
        "\n",
        "        # Copy image\n",
        "        image_dest_path = f'/content/Dataset/images/{mode}/{image_name}.png'\n",
        "        copyfile(image_source_path, image_dest_path)\n",
        "\n",
        "        # Copy label\n",
        "        label_dest_path = f'/content/Dataset/labels/{mode}/{image_name}.txt'\n",
        "        copyfile(label_source_path, label_dest_path)\n",
        "\n",
        "copy_files(train_files, '/content/Dataset/labels', '/content/images', \"train\")\n",
        "copy_files(val_files, '/content/Dataset/labels', '/content/images', \"val\")\n",
        "copy_files(test_files, '/content/Dataset/labels', '/content/images', \"test\")\n"
      ]
    },
    {
      "cell_type": "code",
      "execution_count": null,
      "metadata": {
        "id": "DnDpq3dJGl6P"
      },
      "outputs": [],
      "source": [
        "!ls /content/Dataset/images"
      ]
    },
    {
      "cell_type": "code",
      "execution_count": null,
      "metadata": {
        "id": "_NaU9yi9Gp5O"
      },
      "outputs": [],
      "source": [
        "# Create configuration file\n",
        "config = {\n",
        "   \"path\": \"/content/Dataset/images\",\n",
        "   \"train\": \"train\",\n",
        "   \"val\": \"val\",\n",
        "   \"test\": \"test\",\n",
        "   \"nc\": 3,\n",
        "   \"names\": class_names\n",
        "}\n",
        "with open(\"data.yaml\", \"w\") as file:\n",
        "   yaml.dump(config, file, default_flow_style=False)"
      ]
    },
    {
      "cell_type": "code",
      "execution_count": null,
      "metadata": {
        "id": "rKpNPvtCGtfR"
      },
      "outputs": [],
      "source": [
        "# Display the YAML file\n",
        "!cat data.yaml"
      ]
    },
    {
      "cell_type": "code",
      "execution_count": null,
      "metadata": {
        "id": "rGspDgqhHVo9"
      },
      "outputs": [],
      "source": [
        "pip install wandb"
      ]
    },
    {
      "cell_type": "code",
      "execution_count": null,
      "metadata": {
        "id": "3Soaq3cOGwAB"
      },
      "outputs": [],
      "source": [
        "!wandb disabled"
      ]
    },
    {
      "cell_type": "code",
      "execution_count": null,
      "metadata": {
        "id": "e5Hyp1eCGxyF"
      },
      "outputs": [],
      "source": [
        "# Train YOLOv8 model\n",
        "!yolo task=detect mode=train data=data.yaml model=yolov8s.pt epochs=5 lr0=0.001"
      ]
    },
    {
      "cell_type": "code",
      "execution_count": null,
      "metadata": {
        "id": "z3QJLml7Scvz"
      },
      "outputs": [],
      "source": [
        "# Check the results\n",
        "!ls /content/runs/detect/train"
      ]
    },
    {
      "cell_type": "code",
      "execution_count": null,
      "metadata": {
        "id": "9o5YLa3ZI9VE"
      },
      "outputs": [],
      "source": [
        "# Validate the model\n",
        "!yolo task=detect mode=val model=/content/runs/detect/train/weights/best.pt data=data.yaml"
      ]
    },
    {
      "cell_type": "code",
      "execution_count": null,
      "metadata": {
        "id": "8VboGMUhI91T"
      },
      "outputs": [],
      "source": [
        "# # Save the model to Google Drive\n",
        "# model_path = \"/content/runs/detect/train/weights/best.pt\"\n",
        "# drive_model_path = \"/content/drive/MyDrive/best.pt\"\n",
        "# copyfile(model_path, drive_model_path)\n",
        "\n",
        "# print(f\"Model saved to {drive_model_path}\")"
      ]
    },
    {
      "cell_type": "code",
      "execution_count": null,
      "metadata": {
        "id": "vNWwKEm0UMd0"
      },
      "outputs": [],
      "source": [
        "# from google.colab import files\n",
        "\n",
        "# # Download the file\n",
        "# files.download('/content/runs/detect/train/weights/best.pt')\n"
      ]
    },
    {
      "cell_type": "code",
      "execution_count": null,
      "metadata": {
        "id": "jlxCh3f3VknJ"
      },
      "outputs": [],
      "source": []
    }
  ],
  "metadata": {
    "accelerator": "GPU",
    "colab": {
      "gpuType": "T4",
      "provenance": []
    },
    "kernelspec": {
      "display_name": "Python 3",
      "name": "python3"
    },
    "language_info": {
      "name": "python"
    }
  },
  "nbformat": 4,
  "nbformat_minor": 0
}